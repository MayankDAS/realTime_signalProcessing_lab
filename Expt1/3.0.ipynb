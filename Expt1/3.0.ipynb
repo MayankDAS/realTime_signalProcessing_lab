{
 "cells": [
  {
   "cell_type": "code",
   "execution_count": 20,
   "metadata": {},
   "outputs": [],
   "source": [
    "import cv2\n",
    "import numpy as np\n",
    "import os\n",
    "import time"
   ]
  },
  {
   "cell_type": "code",
   "execution_count": 21,
   "metadata": {},
   "outputs": [],
   "source": [
    "cv2.namedWindow(\"preview\")\n",
    "vc = cv2.VideoCapture(0)\n",
    "face_cascade = cv2.CascadeClassifier(\"G:\\Github\\opencv\\data\\haarcascades\\haarcascade_frontalface_default.xml\")\n",
    "facedict = {}\n",
    "emotions =[\"anger\",\"disgust\",\"fear\",\"happy\",\"neutral\",\"sad\",\"surprise\"]"
   ]
  },
  {
   "cell_type": "code",
   "execution_count": 22,
   "metadata": {},
   "outputs": [],
   "source": [
    "#To crop face in an image\n",
    "def crop_face(clahe_image, face):\n",
    "    for (x, y, w, h) in face:\n",
    "        faceslice = clahe_image[y:y+h, x:x+w]\n",
    "        faceslice = cv2.resize(faceslice, (350, 350))\n",
    "    facedict[\"face%s\" %(len(facedict)+1)] = faceslice\n",
    "    return faceslice\n",
    "\n",
    "def build_set(emotions):\n",
    "    check_folders(emotions)\n",
    "    for i in range(0, len(emotions)):\n",
    "        save_face(emotions[i])\n",
    "    print(\"Great,You are Done!\" )\n",
    "    cv2.destroyWindow(\"preview\")\n",
    "    cv2.destroyWindow(\"webcam\")"
   ]
  },
  {
   "cell_type": "code",
   "execution_count": 23,
   "metadata": {},
   "outputs": [],
   "source": [
    "#To check if folder exists, create if doesnt exists\n",
    "def check_folders(emotions): \n",
    "    for x in emotions:\n",
    "        if os.path.exists(\"dataset\\\\%s\" %x):\n",
    "            pass\n",
    "        else:\n",
    "            os.makedirs(\"dataset\\\\%s\" %x)"
   ]
  },
  {
   "cell_type": "code",
   "execution_count": 24,
   "metadata": {},
   "outputs": [],
   "source": [
    "#To save a face in a particular folder\n",
    "def save_face(emotion):\n",
    "    print(\"\\n\\nplease look \" + emotion)\n",
    "    #To create timer to give time to read what emotion to express\n",
    "    for i in range(0,5):\n",
    "        print(5-i)\n",
    "        time.sleep(1)\n",
    "    #To grab 50 images for each emotion of each person\n",
    "    while len(facedict.keys()) < 51: \n",
    "        open_webcamframe()\n",
    "    #To save contents of dictionary to files\n",
    "    for x in facedict.keys(): \n",
    "        cv2.imwrite(\"dataset_set\\\\%s\\\\%s.jpg\" %(emotion,  len(glob.glob(\"dataset\\\\%s\\\\*\" %emotion))), facedict[x])\n",
    "    facedict.clear() #clear dictionary so that the next emotion can be stored"
   ]
  },
  {
   "cell_type": "code",
   "execution_count": 25,
   "metadata": {},
   "outputs": [],
   "source": [
    "def open_webcamframe():\n",
    "    while True:\n",
    "        if vc.isOpened(): # try to get the first frame\n",
    "            rval, frame = vc.read()\n",
    "        else:\n",
    "            rval = False\n",
    "        cv2.imshow(\"preview\", frame)\n",
    "        key = cv2.waitKey(40)\n",
    "        if key == 27: # exit on ESC\n",
    "            break\n",
    "        if key == 32:\n",
    "            #To convert image into grayscale\n",
    "            gray = cv2.cvtColor(frame, cv2.COLOR_BGR2GRAY) \n",
    "            clahe = cv2.createCLAHE(clipLimit=2.0, tileGridSize=(8,8))\n",
    "            clahe_image = clahe.apply(gray)\n",
    "            #To run classifier on frame\n",
    "            face = face_cascade.detectMultiScale(clahe_image, scaleFactor=1.1, minNeighbors=15, minSize=(10, 10), flags=cv2.CASCADE_SCALE_IMAGE)\n",
    "            #To draw rectangle around detected faces\n",
    "            for (x, y, w, h) in face: \n",
    "                cv2.rectangle(frame, (x, y), (x+w, y+h), (0, 0, 255), 2) #draw it on \"frame\", (coordinates), (size), (RGB color), thickness 2\n",
    "                #Use simple check if one face is detected, or multiple (measurement error unless multiple persons on image)\n",
    "                if len(face) == 1: \n",
    "                    faceslice = crop_face(clahe_image, face)\n",
    "                    cv2.imshow(\"webcam\", frame)\n",
    "                return faceslice#slice face from image\n",
    "           \n",
    "            else:\n",
    "                print(\"no/multiple faces detected, passing over frame\")\n",
    "    cv2.destroyWindow(\"preview\")\n",
    "    cv2.destroyWindow(\"webcam\")"
   ]
  },
  {
   "cell_type": "code",
   "execution_count": 26,
   "metadata": {},
   "outputs": [
    {
     "name": "stdout",
     "output_type": "stream",
     "text": [
      "\n",
      "\n",
      "please look anger\n",
      "5\n",
      "4\n",
      "3\n",
      "2\n",
      "1\n"
     ]
    },
    {
     "ename": "KeyboardInterrupt",
     "evalue": "",
     "output_type": "error",
     "traceback": [
      "\u001b[1;31m---------------------------------------------------------------------------\u001b[0m",
      "\u001b[1;31mKeyboardInterrupt\u001b[0m                         Traceback (most recent call last)",
      "\u001b[1;32m<ipython-input-26-e62fe3d670ec>\u001b[0m in \u001b[0;36m<module>\u001b[1;34m()\u001b[0m\n\u001b[1;32m----> 1\u001b[1;33m \u001b[0mbuild_set\u001b[0m\u001b[1;33m(\u001b[0m\u001b[0memotions\u001b[0m\u001b[1;33m)\u001b[0m\u001b[1;33m\u001b[0m\u001b[0m\n\u001b[0m",
      "\u001b[1;32m<ipython-input-22-d6797683513c>\u001b[0m in \u001b[0;36mbuild_set\u001b[1;34m(emotions)\u001b[0m\n\u001b[0;32m     10\u001b[0m     \u001b[0mcheck_folders\u001b[0m\u001b[1;33m(\u001b[0m\u001b[0memotions\u001b[0m\u001b[1;33m)\u001b[0m\u001b[1;33m\u001b[0m\u001b[0m\n\u001b[0;32m     11\u001b[0m     \u001b[1;32mfor\u001b[0m \u001b[0mi\u001b[0m \u001b[1;32min\u001b[0m \u001b[0mrange\u001b[0m\u001b[1;33m(\u001b[0m\u001b[1;36m0\u001b[0m\u001b[1;33m,\u001b[0m \u001b[0mlen\u001b[0m\u001b[1;33m(\u001b[0m\u001b[0memotions\u001b[0m\u001b[1;33m)\u001b[0m\u001b[1;33m)\u001b[0m\u001b[1;33m:\u001b[0m\u001b[1;33m\u001b[0m\u001b[0m\n\u001b[1;32m---> 12\u001b[1;33m         \u001b[0msave_face\u001b[0m\u001b[1;33m(\u001b[0m\u001b[0memotions\u001b[0m\u001b[1;33m[\u001b[0m\u001b[0mi\u001b[0m\u001b[1;33m]\u001b[0m\u001b[1;33m)\u001b[0m\u001b[1;33m\u001b[0m\u001b[0m\n\u001b[0m\u001b[0;32m     13\u001b[0m     \u001b[0mprint\u001b[0m\u001b[1;33m(\u001b[0m\u001b[1;34m\"Great,You are Done!\"\u001b[0m \u001b[1;33m)\u001b[0m\u001b[1;33m\u001b[0m\u001b[0m\n\u001b[0;32m     14\u001b[0m     \u001b[0mcv2\u001b[0m\u001b[1;33m.\u001b[0m\u001b[0mdestroyWindow\u001b[0m\u001b[1;33m(\u001b[0m\u001b[1;34m\"preview\"\u001b[0m\u001b[1;33m)\u001b[0m\u001b[1;33m\u001b[0m\u001b[0m\n",
      "\u001b[1;32m<ipython-input-24-0e0715ccac84>\u001b[0m in \u001b[0;36msave_face\u001b[1;34m(emotion)\u001b[0m\n\u001b[0;32m      8\u001b[0m     \u001b[1;31m#To grab 50 images for each emotion of each person\u001b[0m\u001b[1;33m\u001b[0m\u001b[1;33m\u001b[0m\u001b[0m\n\u001b[0;32m      9\u001b[0m     \u001b[1;32mwhile\u001b[0m \u001b[0mlen\u001b[0m\u001b[1;33m(\u001b[0m\u001b[0mfacedict\u001b[0m\u001b[1;33m.\u001b[0m\u001b[0mkeys\u001b[0m\u001b[1;33m(\u001b[0m\u001b[1;33m)\u001b[0m\u001b[1;33m)\u001b[0m \u001b[1;33m<\u001b[0m \u001b[1;36m51\u001b[0m\u001b[1;33m:\u001b[0m\u001b[1;33m\u001b[0m\u001b[0m\n\u001b[1;32m---> 10\u001b[1;33m         \u001b[0mopen_webcamframe\u001b[0m\u001b[1;33m(\u001b[0m\u001b[1;33m)\u001b[0m\u001b[1;33m\u001b[0m\u001b[0m\n\u001b[0m\u001b[0;32m     11\u001b[0m     \u001b[1;31m#To save contents of dictionary to files\u001b[0m\u001b[1;33m\u001b[0m\u001b[1;33m\u001b[0m\u001b[0m\n\u001b[0;32m     12\u001b[0m     \u001b[1;32mfor\u001b[0m \u001b[0mx\u001b[0m \u001b[1;32min\u001b[0m \u001b[0mfacedict\u001b[0m\u001b[1;33m.\u001b[0m\u001b[0mkeys\u001b[0m\u001b[1;33m(\u001b[0m\u001b[1;33m)\u001b[0m\u001b[1;33m:\u001b[0m\u001b[1;33m\u001b[0m\u001b[0m\n",
      "\u001b[1;32m<ipython-input-25-d61a0eb3aa3b>\u001b[0m in \u001b[0;36mopen_webcamframe\u001b[1;34m()\u001b[0m\n\u001b[0;32m      6\u001b[0m             \u001b[0mrval\u001b[0m \u001b[1;33m=\u001b[0m \u001b[1;32mFalse\u001b[0m\u001b[1;33m\u001b[0m\u001b[0m\n\u001b[0;32m      7\u001b[0m         \u001b[0mcv2\u001b[0m\u001b[1;33m.\u001b[0m\u001b[0mimshow\u001b[0m\u001b[1;33m(\u001b[0m\u001b[1;34m\"preview\"\u001b[0m\u001b[1;33m,\u001b[0m \u001b[0mframe\u001b[0m\u001b[1;33m)\u001b[0m\u001b[1;33m\u001b[0m\u001b[0m\n\u001b[1;32m----> 8\u001b[1;33m         \u001b[0mkey\u001b[0m \u001b[1;33m=\u001b[0m \u001b[0mcv2\u001b[0m\u001b[1;33m.\u001b[0m\u001b[0mwaitKey\u001b[0m\u001b[1;33m(\u001b[0m\u001b[1;36m40\u001b[0m\u001b[1;33m)\u001b[0m\u001b[1;33m\u001b[0m\u001b[0m\n\u001b[0m\u001b[0;32m      9\u001b[0m         \u001b[1;32mif\u001b[0m \u001b[0mkey\u001b[0m \u001b[1;33m==\u001b[0m \u001b[1;36m27\u001b[0m\u001b[1;33m:\u001b[0m \u001b[1;31m# exit on ESC\u001b[0m\u001b[1;33m\u001b[0m\u001b[0m\n\u001b[0;32m     10\u001b[0m             \u001b[1;32mbreak\u001b[0m\u001b[1;33m\u001b[0m\u001b[0m\n",
      "\u001b[1;31mKeyboardInterrupt\u001b[0m: "
     ]
    }
   ],
   "source": [
    "build_set(emotions)"
   ]
  },
  {
   "cell_type": "code",
   "execution_count": null,
   "metadata": {},
   "outputs": [],
   "source": []
  }
 ],
 "metadata": {
  "kernelspec": {
   "display_name": "Python 3",
   "language": "python",
   "name": "python3"
  },
  "language_info": {
   "codemirror_mode": {
    "name": "ipython",
    "version": 3
   },
   "file_extension": ".py",
   "mimetype": "text/x-python",
   "name": "python",
   "nbconvert_exporter": "python",
   "pygments_lexer": "ipython3",
   "version": "3.6.5"
  }
 },
 "nbformat": 4,
 "nbformat_minor": 2
}
