{
 "cells": [
  {
   "cell_type": "code",
   "execution_count": 14,
   "metadata": {},
   "outputs": [],
   "source": [
    "import cv2\n",
    "import numpy as np\n",
    "import os\n",
    "from datetime import datetime"
   ]
  },
  {
   "cell_type": "code",
   "execution_count": 15,
   "metadata": {},
   "outputs": [],
   "source": [
    "cap = cv2.VideoCapture(0)\n",
    "saveFrames = True\n",
    "i = 0\n",
    "\n",
    "while(True):\n",
    "    ret, frame = cap.read()\n",
    "    \n",
    "    faceCascade = cv2.CascadeClassifier('G:\\Github\\opencv\\data\\lbpcascades\\lbpcascade_frontalface.xml')  \n",
    "    \n",
    "    gray = cv2.cvtColor(frame, cv2.COLOR_BGR2GRAY)\n",
    "    faces = faceCascade.detectMultiScale(gray, scaleFactor = 1.2, minNeighbors = 5);\n",
    "    \n",
    "    for (x, y, w, h) in faces:\n",
    "        minFrame = w > 200 and h > 200\n",
    "        if minFrame:\n",
    "            cv2.rectangle(frame, (x, y), (x+w, y+h), (0, 255, 0), 2)\n",
    "            if saveFrames == True:\n",
    "                faceslice = frame[y:y+h, x:x+w]\n",
    "                faceslice = cv2.resize(faceslice, (100, 100))\n",
    "#                 path = 'C:/SPB_Data/RTSP/dataset/faces-' + datetime.now().strftime('%d-%m-%Y')\n",
    "                path = 'C:/SPB_Data/RTSP/dataset/faces-real'\n",
    "                if os.path.exists(path):\n",
    "                    pass\n",
    "                else:\n",
    "                    os.makedirs(path)\n",
    "#                 image_name = datetime.now().strftime('%d-%m-%Y_%H-%M-%S')\n",
    "                image_name = i;\n",
    "                i=i+1\n",
    "                filename = \"%s.jpg\" % (image_name)\n",
    "                cv2.imwrite(os.path.join(path , filename), faceslice)\n",
    "\n",
    "    cv2.imshow('frame',frame)\n",
    "\n",
    "    if cv2.waitKey(1) & 0xFF == ord('q'):\n",
    "        break\n",
    "\n",
    "cap.release()\n",
    "cv2.destroyAllWindows()"
   ]
  },
  {
   "cell_type": "code",
   "execution_count": null,
   "metadata": {},
   "outputs": [],
   "source": []
  },
  {
   "cell_type": "code",
   "execution_count": null,
   "metadata": {},
   "outputs": [],
   "source": []
  },
  {
   "cell_type": "code",
   "execution_count": null,
   "metadata": {},
   "outputs": [],
   "source": []
  },
  {
   "cell_type": "code",
   "execution_count": null,
   "metadata": {},
   "outputs": [],
   "source": []
  }
 ],
 "metadata": {
  "kernelspec": {
   "display_name": "Python 3",
   "language": "python",
   "name": "python3"
  },
  "language_info": {
   "codemirror_mode": {
    "name": "ipython",
    "version": 3
   },
   "file_extension": ".py",
   "mimetype": "text/x-python",
   "name": "python",
   "nbconvert_exporter": "python",
   "pygments_lexer": "ipython3",
   "version": "3.6.8"
  }
 },
 "nbformat": 4,
 "nbformat_minor": 2
}
