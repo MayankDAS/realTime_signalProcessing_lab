{
 "cells": [
  {
   "cell_type": "code",
   "execution_count": 23,
   "metadata": {},
   "outputs": [],
   "source": []
  },
  {
   "cell_type": "code",
   "execution_count": 24,
   "metadata": {},
   "outputs": [
    {
     "name": "stdout",
     "output_type": "stream",
     "text": [
      "training fisher face classifier\n",
      "size of training set is: 520 images\n",
      "predicting classification set\n",
      "got 96.89922480620154 percent correct!\n",
      "\n",
      "\n",
      "end score: 96.89922480620154 percent correct!\n"
     ]
    }
   ],
   "source": [
    "#Data is generated is using the code used before for generating emotion recognition dataset\n",
    "#Here I'm using FisherFaceRecognizer to train my model for anti-spoofing (liveness of the face)\n",
    "#Since it is a binary classification unlike emotion recognition it works quite well with limited dataset\n",
    "\n",
    "import cv2\n",
    "import glob\n",
    "import random\n",
    "import numpy as np\n",
    "from shutil import copyfile\n",
    "\n",
    "names=[\"real\",\"fake\"] \n",
    "dest_url=\"C:\\\\SPB_Data\\\\RTSP\\\\Expt3(test)\\\\dataset\"\n",
    "fishface = cv2.face.FisherFaceRecognizer_create() #Initialize fisher face classifier\n",
    "data = {}\n",
    "\n",
    "def get_files(emotion): #Define function to get file list, randomly shuffle it and split 80/20\n",
    "    files = glob.glob(\"%s\\\\%s\\\\*\" %(dest_url,emotion))\n",
    "    random.shuffle(files)\n",
    "    training = files[:int(len(files)*0.8)] #get first 80% of file list\n",
    "    prediction = files[-int(len(files)*0.2):] #get last 20% of file list\n",
    "    return training, prediction\n",
    "def make_sets():\n",
    "    training_data = []\n",
    "    training_labels = []\n",
    "    prediction_data = []\n",
    "    prediction_labels = []\n",
    "    for name in names:\n",
    "        training, prediction = get_files(name)\n",
    "        #Append data to training and prediction list, and generate labels 0-7\n",
    "        for item in training:\n",
    "            image = cv2.imread(item) #open image\n",
    "            gray = cv2.cvtColor(image, cv2.COLOR_BGR2GRAY) #convert to grayscale\n",
    "            training_data.append(gray) #append image array to training data list\n",
    "            training_labels.append(names.index(name))\n",
    "        for item in prediction: #repeat above process for prediction set\n",
    "            image = cv2.imread(item)\n",
    "            gray = cv2.cvtColor(image, cv2.COLOR_BGR2GRAY)\n",
    "            prediction_data.append(gray)\n",
    "            prediction_labels.append(names.index(name))\n",
    "    return training_data, training_labels, prediction_data, prediction_labels\n",
    "def run_recognizer():\n",
    "    training_data, training_labels, prediction_data, prediction_labels = make_sets()\n",
    "    print(\"training fisher face classifier\")\n",
    "    print(\"size of training set is:\", len(training_labels), \"images\")\n",
    "    fishface.train(training_data, np.asarray(training_labels))\n",
    "    print(\"predicting classification set\")\n",
    "    cnt = 0\n",
    "    correct = 0\n",
    "    incorrect = 0\n",
    "    for image in prediction_data:\n",
    "        pred, conf = fishface.predict(image)\n",
    "        if pred == prediction_labels[cnt]:\n",
    "            correct += 1\n",
    "            cnt += 1\n",
    "        else:\n",
    "            incorrect += 1\n",
    "            cnt += 1\n",
    "    return ((100*correct)/(correct + incorrect))\n",
    "\n",
    "metascore = []\n",
    "for i in range(0,1):\n",
    "    correct = run_recognizer()\n",
    "    print(\"got\", correct, \"percent correct!\")\n",
    "    metascore.append(correct)\n",
    "print(\"\\n\\nend score:\", np.mean(metascore), \"percent correct!\")"
   ]
  },
  {
   "cell_type": "code",
   "execution_count": 25,
   "metadata": {},
   "outputs": [],
   "source": [
    "cap = cv2.VideoCapture(0)\n",
    "\n",
    "fourcc = cv2.VideoWriter_fourcc(*'XVID')\n",
    "output = cv2.VideoWriter('output.avi', fourcc, 30.0, (640,480))\n",
    "\n",
    "emotions = [\"real\", \"fake\"]\n",
    "while(True):\n",
    "    ret, frame = cap.read()\n",
    "    cv2.waitKey(50)\n",
    "    \n",
    "    gray = cv2.cvtColor(frame, cv2.COLOR_BGR2GRAY)\n",
    "#     gray = cv2.equalizeHist(gray)\n",
    "    \n",
    "    faceDet = cv2.CascadeClassifier(\"G:\\Github\\opencv\\data\\haarcascades\\haarcascade_frontalface_alt.xml\")\n",
    "    face = faceDet.detectMultiScale(gray, scaleFactor=1.1, minNeighbors=10, minSize=(5, 5), flags=cv2.CASCADE_SCALE_IMAGE)\n",
    "    \n",
    "    for (x,y,w,h) in face:\n",
    "        cv2.rectangle(frame, (x, y), (x+w,y+h), (0, 255, 0), 2)\n",
    "        gray1=gray[y:y+h,x:x+w]\n",
    "        out = cv2.resize(gray1, (100, 100))\n",
    "        pred, conf = fishface.predict(out)\n",
    "#         print(emotions[pred])\n",
    "        cv2.putText(frame, emotions[pred], (int(x), int(y)), cv2.FONT_HERSHEY_SIMPLEX, 1, (255,255,255), 2)\n",
    "    \n",
    "    output.write(frame)\n",
    "    cv2.imshow('frame',frame)\n",
    "    \n",
    "    if cv2.waitKey(1) & 0xFF == ord('q'):\n",
    "        break\n",
    "\n",
    "cap.release()\n",
    "output.release()\n",
    "cv2.destroyAllWindows()"
   ]
  },
  {
   "cell_type": "code",
   "execution_count": null,
   "metadata": {},
   "outputs": [],
   "source": []
  },
  {
   "cell_type": "code",
   "execution_count": 26,
   "metadata": {},
   "outputs": [],
   "source": []
  },
  {
   "cell_type": "code",
   "execution_count": 25,
   "metadata": {},
   "outputs": [],
   "source": []
  },
  {
   "cell_type": "code",
   "execution_count": null,
   "metadata": {},
   "outputs": [],
   "source": [
    "   "
   ]
  },
  {
   "cell_type": "code",
   "execution_count": null,
   "metadata": {},
   "outputs": [],
   "source": []
  },
  {
   "cell_type": "code",
   "execution_count": null,
   "metadata": {},
   "outputs": [],
   "source": []
  },
  {
   "cell_type": "code",
   "execution_count": null,
   "metadata": {},
   "outputs": [],
   "source": []
  },
  {
   "cell_type": "code",
   "execution_count": null,
   "metadata": {},
   "outputs": [],
   "source": []
  }
 ],
 "metadata": {
  "kernelspec": {
   "display_name": "Python 3",
   "language": "python",
   "name": "python3"
  },
  "language_info": {
   "codemirror_mode": {
    "name": "ipython",
    "version": 3
   },
   "file_extension": ".py",
   "mimetype": "text/x-python",
   "name": "python",
   "nbconvert_exporter": "python",
   "pygments_lexer": "ipython3",
   "version": "3.6.8"
  }
 },
 "nbformat": 4,
 "nbformat_minor": 2
}
